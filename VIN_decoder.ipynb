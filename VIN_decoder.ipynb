{
 "cells": [
  {
   "cell_type": "code",
   "execution_count": 2,
   "id": "451f55d8",
   "metadata": {},
   "outputs": [],
   "source": [
    "# Purpose: To decode VIN information by call NHTSA API (https://vpic.nhtsa.dot.gov/api/) \n",
    "# Author:   \n",
    "# Created: \n",
    "\n",
    "import requests,json;\n",
    "    \n",
    "def vin_decoder(vin_number): # VIN Decoder \n",
    "    \"\"\"\n",
    "        :param vin_number(string): vin_number \n",
    "        :returns rlt(dictionary): vehicle information \n",
    "    \"\"\"\n",
    "    url = 'https://vpic.nhtsa.dot.gov/api/vehicles/DecodeVINValuesBatch/';\n",
    "    post_fields = {'format': 'json', 'data':vin_number}; # available return format: xml, csv, json\n",
    "    r = requests.post(url, data=post_fields);\n",
    "    rlt = json.loads(r.text)\n",
    "    return rlt"
   ]
  },
  {
   "cell_type": "code",
   "execution_count": 3,
   "id": "8a0df838",
   "metadata": {},
   "outputs": [
    {
     "name": "stdout",
     "output_type": "stream",
     "text": [
      "Make: HONDA\n",
      "Model: Civic\n",
      "Model Year: 2016\n",
      "BodyClass: Sedan/Saloon\n",
      "FuelTypePrimary: Gasoline\n",
      "Seats: \n",
      "ErrorCode: 0\n",
      "ErrorText: 0 - VIN decoded clean. Check Digit (9th position) is correct\n"
     ]
    }
   ],
   "source": [
    "#vin_num = \"5YJ3E1EA6JF123830\"\n",
    "vin_num = \"2HGFC2F88GH011720\"\n",
    "vin_details = vin_decoder(vin_num)\n",
    "\n",
    "#use vin_details[\"Results\"][0] to check all available fields\n",
    "#print(vin_details[\"Results\"][0])\n",
    "\n",
    "print(\"Make: \"            + vin_details[\"Results\"][0][\"Make\"])\n",
    "print(\"Model: \"           + vin_details[\"Results\"][0][\"Model\"] )\n",
    "print(\"Model Year: \"       + vin_details[\"Results\"][0][\"ModelYear\"] ) \n",
    "print(\"BodyClass: \"       + vin_details[\"Results\"][0][\"BodyClass\"] )\n",
    "print(\"FuelTypePrimary: \" + vin_details[\"Results\"][0][\"FuelTypePrimary\"] )\n",
    "print(\"Seats: \"           + vin_details[\"Results\"][0][\"Seats\"] )\n",
    "print(\"ErrorCode: \"       + vin_details[\"Results\"][0][\"ErrorCode\"] )\n",
    "print(\"ErrorText: \"       + vin_details[\"Results\"][0][\"ErrorText\"] )"
   ]
  },
  {
   "cell_type": "code",
   "execution_count": null,
   "id": "0a5dd21b",
   "metadata": {},
   "outputs": [],
   "source": []
  }
 ],
 "metadata": {
  "kernelspec": {
   "display_name": "Python 3.9.7 ('.venv': venv)",
   "language": "python",
   "name": "python3"
  },
  "language_info": {
   "codemirror_mode": {
    "name": "ipython",
    "version": 3
   },
   "file_extension": ".py",
   "mimetype": "text/x-python",
   "name": "python",
   "nbconvert_exporter": "python",
   "pygments_lexer": "ipython3",
   "version": "3.9.7"
  },
  "vscode": {
   "interpreter": {
    "hash": "dc0b26c33141f24a56ff079cf4d72ac0bff81f699bd944eafbeb38730b2d7880"
   }
  }
 },
 "nbformat": 4,
 "nbformat_minor": 5
}
